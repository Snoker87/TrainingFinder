{
 "cells": [
  {
   "cell_type": "code",
   "execution_count": 43,
   "metadata": {},
   "outputs": [],
   "source": [
    "from transformers import AutoTokenizer, AutoModelForTokenClassification\n",
    "from transformers import pipeline\n",
    "import json\n",
    "import pprint\n",
    "tokenizer = AutoTokenizer.from_pretrained(\"Davlan/bert-base-multilingual-cased-ner-hrl\")\n",
    "model = AutoModelForTokenClassification.from_pretrained(\"Davlan/bert-base-multilingual-cased-ner-hrl\")"
   ]
  },
  {
   "cell_type": "code",
   "execution_count": 44,
   "metadata": {},
   "outputs": [
    {
     "name": "stdout",
     "output_type": "stream",
     "text": [
      "[{'end': 30,\n",
      "  'entity': 'B-LOC',\n",
      "  'index': 11,\n",
      "  'score': 0.9995388,\n",
      "  'start': 29,\n",
      "  'word': 'R'},\n",
      " {'end': 33,\n",
      "  'entity': 'I-LOC',\n",
      "  'index': 12,\n",
      "  'score': 0.99901414,\n",
      "  'start': 30,\n",
      "  'word': '##iya'},\n",
      " {'end': 35,\n",
      "  'entity': 'I-LOC',\n",
      "  'index': 13,\n",
      "  'score': 0.9994481,\n",
      "  'start': 33,\n",
      "  'word': '##dh'},\n",
      " {'end': 49,\n",
      "  'entity': 'B-ORG',\n",
      "  'index': 17,\n",
      "  'score': 0.9998548,\n",
      "  'start': 46,\n",
      "  'word': 'Ara'},\n",
      " {'end': 50,\n",
      "  'entity': 'I-ORG',\n",
      "  'index': 18,\n",
      "  'score': 0.99979967,\n",
      "  'start': 49,\n",
      "  'word': '##m'},\n",
      " {'end': 52,\n",
      "  'entity': 'I-ORG',\n",
      "  'index': 19,\n",
      "  'score': 0.99982566,\n",
      "  'start': 50,\n",
      "  'word': '##co'}]\n"
     ]
    }
   ],
   "source": [
    "nlp = pipeline(\"ner\", model=model, tokenizer=tokenizer)\n",
    "example = \"My name is omar and Im from Riyadh I work in Aramco company\"\n",
    "ner_results = nlp(example)\n",
    "pprint.pprint(ner_results)"
   ]
  }
 ],
 "metadata": {
  "kernelspec": {
   "display_name": "Python 3.10.4 64-bit",
   "language": "python",
   "name": "python3"
  },
  "language_info": {
   "codemirror_mode": {
    "name": "ipython",
    "version": 3
   },
   "file_extension": ".py",
   "mimetype": "text/x-python",
   "name": "python",
   "nbconvert_exporter": "python",
   "pygments_lexer": "ipython3",
   "version": "3.10.4"
  },
  "orig_nbformat": 4,
  "vscode": {
   "interpreter": {
    "hash": "***************"
   }
  }
 },
 "nbformat": 4,
 "nbformat_minor": 2
}
